{
  "nbformat": 4,
  "nbformat_minor": 0,
  "metadata": {
    "colab": {
      "provenance": [],
      "authorship_tag": "ABX9TyMiv8ypNZHw/AD1x0Qlm1Ft",
      "include_colab_link": true
    },
    "kernelspec": {
      "name": "python3",
      "display_name": "Python 3"
    },
    "language_info": {
      "name": "python"
    }
  },
  "cells": [
    {
      "cell_type": "markdown",
      "metadata": {
        "id": "view-in-github",
        "colab_type": "text"
      },
      "source": [
        "<a href=\"https://colab.research.google.com/github/suriarasai/BEAD2024/blob/main/colab/02b_AdvancedFunctional_Programming.ipynb\" target=\"_parent\"><img src=\"https://colab.research.google.com/assets/colab-badge.svg\" alt=\"Open In Colab\"/></a>"
      ]
    },
    {
      "cell_type": "markdown",
      "source": [
        "# Advanced Functional Progamming\n",
        "This is a class room demo, to undertand functional currying, recursion and simple higher order functions."
      ],
      "metadata": {
        "id": "n7B6_Y2sG006"
      }
    },
    {
      "cell_type": "markdown",
      "source": [
        "## Currying in Python\n",
        "Functional currying is the process of transforming a function that takes multiple arguments into a sequence of functions that each take a single argument. This is often achieved through the use of closures. Here are a couple of simple examples to illustrate currying.\n",
        "\n",
        "#### Example 1: Adding Two Numbers\n"
      ],
      "metadata": {
        "id": "3tbEmeT-i5SH"
      }
    },
    {
      "cell_type": "code",
      "source": [
        "# lambda a,b: a+b\n",
        "#Define a function within a function\n",
        "def add(a):\n",
        "    # function called add_to\n",
        "    def add_to(b):\n",
        "        return a + b # returns an answer\n",
        "    return add_to # returns a function\n",
        "\n",
        "# Partial execution of results\n",
        "# Curried function\n",
        "add_to_5 = add(5)\n",
        "print(add_to_5(3))  # Outputs 8, as it adds 3 to 5"
      ],
      "metadata": {
        "colab": {
          "base_uri": "https://localhost:8080/"
        },
        "id": "Jtz_Xx0vjQvA",
        "outputId": "dc1fda65-2c40-45c3-c177-65ec4d518055"
      },
      "execution_count": null,
      "outputs": [
        {
          "output_type": "stream",
          "name": "stdout",
          "text": [
            "8\n"
          ]
        }
      ]
    },
    {
      "cell_type": "markdown",
      "source": [
        "In this example, add is a curried function that takes one argument a, and returns another function add_to which takes the second argument b. When we call add(5), it returns a function that adds 5 to its argument. So, add_to_5(3) returns 8.\n",
        "\n",
        "#### Example 2: Distance Conversion\n"
      ],
      "metadata": {
        "id": "pLg55o6DkByk"
      }
    },
    {
      "cell_type": "code",
      "source": [
        "# Demonstrate Currying of composition of function\n",
        "def change(b, c, d):\n",
        "\tdef a(x):\n",
        "\t\treturn b(c(d(x)))\n",
        "\treturn a\n",
        "def kilometer2meter(dist):\n",
        "\t\"\"\" Function that converts km to m. \"\"\"\n",
        "\treturn dist * 1000\n",
        "def meter2centimeter(dist):\n",
        "\t\"\"\" Function that converts m to cm. \"\"\"\n",
        "\treturn dist * 100\n",
        "def centimeter2feet(dist):\n",
        "\t\"\"\" Function that converts cm to ft. \"\"\"\n",
        "\treturn dist / 30.48\n",
        "transform = change(centimeter2feet, meter2centimeter, kilometer2meter )\n",
        "# transform1 = change(kilometer2meter, meter2centimeter, centimeter2feet)\n",
        "print(transform(5))\n",
        "# print(transform1(16405))\n"
      ],
      "metadata": {
        "colab": {
          "base_uri": "https://localhost:8080/"
        },
        "id": "Jdo9LBVSkCvU",
        "outputId": "c303de3c-2dbf-4072-9cd9-81bb54aa952d"
      },
      "execution_count": null,
      "outputs": [
        {
          "output_type": "stream",
          "name": "stdout",
          "text": [
            "16404.199475065616\n",
            "53822178.47769029\n"
          ]
        }
      ]
    },
    {
      "cell_type": "markdown",
      "source": [
        "The above example demonstrates currying of composition of function in preferred sequence. Applying  kilometer2meter, followed by meter2centimeter followed by centimeter2feet. So 565 km is rought 1853674 feets.\n",
        "\n",
        "#### Example 3: Multiplication"
      ],
      "metadata": {
        "id": "_zMSz8pqkjMf"
      }
    },
    {
      "cell_type": "code",
      "source": [
        "def multiply(a):\n",
        "    def multiply_by(b):\n",
        "        return a * b\n",
        "    return multiply_by\n",
        "\n",
        "# Curried function\n",
        "multiply_by_3 = multiply(3)\n",
        "print(multiply_by_3(4))  # Outputs 12, as it multiplies 4 by 3\n"
      ],
      "metadata": {
        "colab": {
          "base_uri": "https://localhost:8080/"
        },
        "id": "Nw7jmeZdlA4o",
        "outputId": "81a5c38d-475a-4167-93af-ab024b13da9a"
      },
      "execution_count": null,
      "outputs": [
        {
          "output_type": "stream",
          "name": "stdout",
          "text": [
            "12\n"
          ]
        }
      ]
    },
    {
      "cell_type": "markdown",
      "source": [
        "Here, multiply takes an argument a and returns a function that will multiply its argument by a. So multiply_by_3 is a function that multiplies its argument by 3, and multiply_by_3(4) evaluates to 12.\n",
        "\n",
        "These examples demonstrate the concept of currying in Python. Currying can be particularly useful for creating partially applied functions, where some arguments to a function are fixed at one point in the program, and the rest are supplied later."
      ],
      "metadata": {
        "id": "8qg9kgZQlImr"
      }
    },
    {
      "cell_type": "markdown",
      "source": [
        "## Recursion in Python\n",
        "Recursion in functions occurs when a function calls itself in order to solve a problem. A recursive function typically has a base case to terminate the recursion and a recursive case that breaks the problem into smaller instances of the same problem. Here are a couple of simple examples to illustrate recursion:\n",
        "\n",
        "#### Example 1: Factorial Calculation\n",
        "The factorial of a number n (denoted as n!) is the product of all positive integers less than or equal to n. It's a classic example of a problem that can be solved using recursion."
      ],
      "metadata": {
        "id": "bMyL6060lNGE"
      }
    },
    {
      "cell_type": "code",
      "source": [
        "def factorial(n):\n",
        "    # Base case: the factorial of 0 is 1\n",
        "    if n == 0:\n",
        "        return 1\n",
        "    # Recursive case: n! = n * (n-1)!\n",
        "    else:\n",
        "        return n * factorial(n-1)\n",
        "\n",
        "# Example usage\n",
        "print(factorial(5))  # Outputs 120, as 5! = 5 * 4 * 3 * 2 * 1\n"
      ],
      "metadata": {
        "colab": {
          "base_uri": "https://localhost:8080/"
        },
        "id": "EdhD1r33lsTB",
        "outputId": "446df863-0502-44e1-aa97-9828780cc257"
      },
      "execution_count": null,
      "outputs": [
        {
          "output_type": "stream",
          "name": "stdout",
          "text": [
            "120\n"
          ]
        }
      ]
    },
    {
      "cell_type": "markdown",
      "source": [
        "#### Example 2: Fibonacci Sequence\n",
        "In the Fibonacci sequence, each number is the sum of the two preceding ones. The sequence starts with 0 and 1, and each subsequent number is the sum of the previous two."
      ],
      "metadata": {
        "id": "_FXbptW-lxR3"
      }
    },
    {
      "cell_type": "code",
      "source": [
        "def fibonacci(n):\n",
        "    # Base cases: fibonacci(0) = 0 and fibonacci(1) = 1\n",
        "    if n == 0:\n",
        "        return 0\n",
        "    elif n == 1:\n",
        "        return 1\n",
        "    # Recursive case: fibonacci(n) = fibonacci(n-1) + fibonacci(n-2)\n",
        "    else:\n",
        "        return fibonacci(n-1) + fibonacci(n-2)\n",
        "\n",
        "# Example usage\n",
        "print(fibonacci(7))  # Outputs 13, as the 7th element in the sequence is 13\n"
      ],
      "metadata": {
        "colab": {
          "base_uri": "https://localhost:8080/"
        },
        "id": "UxfLwDdBlzme",
        "outputId": "b5c44ca3-8b02-498f-e79f-0df42e367d59"
      },
      "execution_count": null,
      "outputs": [
        {
          "output_type": "stream",
          "name": "stdout",
          "text": [
            "13\n"
          ]
        }
      ]
    },
    {
      "cell_type": "markdown",
      "source": [
        "These examples demonstrate how recursion can be used to solve problems in a clear and concise way. However, it's important to ensure that recursive functions have well-defined base cases to prevent infinite recursion."
      ],
      "metadata": {
        "id": "BIpbJwq_mAJZ"
      }
    },
    {
      "cell_type": "markdown",
      "source": [
        "## Higher Order Functions in Python\n",
        "Higher-order functions either take other functions as arguments or return them as results. This concept is a key part of functional programming. Here are a few simple examples to illustrate higher-order functions:\n",
        "#### Example 1: Function as an Argument\n",
        "A common example is passing a function as an argument to another function. The map function is a standard higher-order function in Python that applies a given function to each item of an iterable (like a tuple) and returns a map object."
      ],
      "metadata": {
        "id": "jXyPmYd_mBdp"
      }
    },
    {
      "cell_type": "code",
      "source": [
        "def square(x):\n",
        "    return x * x\n",
        "\n",
        "numbers = (1, 2, 3, 4, 5)\n",
        "squared_numbers = map(square, numbers)\n",
        "\n",
        "print(tuple(squared_numbers))  # Outputs [1, 4, 9, 16, 25]\n"
      ],
      "metadata": {
        "colab": {
          "base_uri": "https://localhost:8080/"
        },
        "id": "O1BPLkKEmgu1",
        "outputId": "86301cbe-55d5-469f-ead5-12b19c257af3"
      },
      "execution_count": null,
      "outputs": [
        {
          "output_type": "stream",
          "name": "stdout",
          "text": [
            "(1, 4, 9, 16, 25)\n"
          ]
        }
      ]
    },
    {
      "cell_type": "markdown",
      "source": [
        "In this example, square is a function that's passed as an argument to map.\n",
        "\n",
        "#### Example 2: Returning a Function\n",
        "A higher-order function can also return a function as a result. This is often used for function factories or closures."
      ],
      "metadata": {
        "id": "iSFxb1GjmqA0"
      }
    },
    {
      "cell_type": "code",
      "source": [
        "def make_multiplier(n):\n",
        "    def multiplier(x):\n",
        "        return x * n\n",
        "    return multiplier\n",
        "\n",
        "double = make_multiplier(2)\n",
        "triple = make_multiplier(3)\n",
        "\n",
        "print(double(5))  # Outputs 10 (5 * 2)\n",
        "print(triple(5))  # Outputs 15 (5 * 3)"
      ],
      "metadata": {
        "colab": {
          "base_uri": "https://localhost:8080/"
        },
        "id": "fh8AHqJzmvVq",
        "outputId": "b25aa2db-edea-43a8-a172-218ac918cdef"
      },
      "execution_count": null,
      "outputs": [
        {
          "output_type": "stream",
          "name": "stdout",
          "text": [
            "10\n",
            "15\n"
          ]
        }
      ]
    },
    {
      "cell_type": "markdown",
      "source": [
        "Here, make_multiplier is a higher-order function that returns other functions (double, triple) that multiply their input by a specific factor.\n",
        "\n",
        "#### Example 3: Function Wrappers with Decorators\n",
        "Decorators are powerful and expressive feature of higher-order functions. They are used to modify the behavior of functions or methods."
      ],
      "metadata": {
        "id": "v0N3rDkMm6yp"
      }
    },
    {
      "cell_type": "code",
      "source": [
        "def my_decorator(func):\n",
        "    def wrapper():\n",
        "        print(\"Something is happening before the function is called.\") # legit prefix function or calculation\n",
        "        func()\n",
        "        print(\"Something is happening after the function is called.\") # legit suffix function or calculation\n",
        "    return wrapper\n",
        "\n",
        "@my_decorator\n",
        "def say_hello():\n",
        "    print(\"Hello!\")\n",
        "\n",
        "say_hello()\n"
      ],
      "metadata": {
        "colab": {
          "base_uri": "https://localhost:8080/"
        },
        "id": "BK6TyiIdnDyU",
        "outputId": "ea4cd3b2-41ca-4074-932c-ab01e849cf54"
      },
      "execution_count": null,
      "outputs": [
        {
          "output_type": "stream",
          "name": "stdout",
          "text": [
            "Something is happening before the function is called.\n",
            "Hello!\n",
            "Something is happening after the function is called.\n"
          ]
        }
      ]
    },
    {
      "cell_type": "markdown",
      "source": [
        "This example shows a decorator my_decorator that wraps around the say_hello function to extend its behavior without modifying its code. The @my_decorator syntax is syntactic sugar for say_hello = my_decorator(say_hello).\n",
        "\n",
        "*Note: Recall the annotations discussions we had while introducing functional programming.*\n",
        "\n",
        "These examples should give us a good understanding of how higher-order functions work in Python. They are a key part of functional programming and can lead to very elegant and concise code.\n",
        "\n",
        "\n",
        "Thanks for the patient listening.\n",
        "\n",
        "End of demonstration. 🙏"
      ],
      "metadata": {
        "id": "okoSdbj7nMW5"
      }
    }
  ]
}