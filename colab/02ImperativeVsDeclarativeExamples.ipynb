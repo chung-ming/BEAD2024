{
  "nbformat": 4,
  "nbformat_minor": 0,
  "metadata": {
    "colab": {
      "provenance": [],
      "authorship_tag": "ABX9TyPw7jTR9OxuEmll1dwB6JZ1",
      "include_colab_link": true
    },
    "kernelspec": {
      "name": "python3",
      "display_name": "Python 3"
    },
    "language_info": {
      "name": "python"
    }
  },
  "cells": [
    {
      "cell_type": "markdown",
      "metadata": {
        "id": "view-in-github",
        "colab_type": "text"
      },
      "source": [
        "<a href=\"https://colab.research.google.com/github/suriarasai/BEAD2024/blob/main/colab/02ImperativeVsDeclarativeExamples.ipynb\" target=\"_parent\"><img src=\"https://colab.research.google.com/assets/colab-badge.svg\" alt=\"Open In Colab\"/></a>"
      ]
    },
    {
      "cell_type": "markdown",
      "source": [
        "## Sum of a List of Numbers\n",
        "\n",
        "### Imperative Style\n",
        "In the imperative approach, you explicitly define the steps the program should take to calculate the sum of the numbers."
      ],
      "metadata": {
        "id": "FQmgiwaBoJFx"
      }
    },
    {
      "cell_type": "code",
      "execution_count": 1,
      "metadata": {
        "id": "Os-Il4goQDlJ",
        "colab": {
          "base_uri": "https://localhost:8080/"
        },
        "outputId": "c48a44c3-955e-441f-89d5-ee7baf5aa9bc"
      },
      "outputs": [
        {
          "output_type": "stream",
          "name": "stdout",
          "text": [
            "15\n"
          ]
        }
      ],
      "source": [
        "numbers = [1, 2, 3, 4, 5]\n",
        "total = 0\n",
        "for number in numbers:\n",
        "    total += number\n",
        "print(total)\n"
      ]
    },
    {
      "cell_type": "markdown",
      "source": [
        "### Declarative Style\n",
        "In the declarative approach, you describe what you want to achieve without specifying the detailed steps to achieve it."
      ],
      "metadata": {
        "id": "VHdI-kRCoOaO"
      }
    },
    {
      "cell_type": "code",
      "source": [
        "numbers = [1, 2, 3, 4, 5]\n",
        "total = sum(numbers)\n",
        "print(total)\n"
      ],
      "metadata": {
        "colab": {
          "base_uri": "https://localhost:8080/"
        },
        "id": "vUxGOiAioQkE",
        "outputId": "c0eba550-30e0-483f-a059-5be252eb6216"
      },
      "execution_count": 2,
      "outputs": [
        {
          "output_type": "stream",
          "name": "stdout",
          "text": [
            "15\n"
          ]
        }
      ]
    },
    {
      "cell_type": "markdown",
      "source": [
        "## Filter Even Numbers\n",
        "\n",
        "Imperative Style"
      ],
      "metadata": {
        "id": "hswaUAKzoQ0y"
      }
    },
    {
      "cell_type": "code",
      "source": [
        "numbers = [1, 2, 3, 4, 5, 6]\n",
        "even_numbers = []\n",
        "for number in numbers:\n",
        "    if number % 2 == 0:\n",
        "        even_numbers.append(number)\n",
        "print(even_numbers)\n"
      ],
      "metadata": {
        "colab": {
          "base_uri": "https://localhost:8080/"
        },
        "id": "Y0FQRR_zoulY",
        "outputId": "4f1d6f92-d523-4d2b-8698-4592fe73fd21"
      },
      "execution_count": 3,
      "outputs": [
        {
          "output_type": "stream",
          "name": "stdout",
          "text": [
            "[2, 4, 6]\n"
          ]
        }
      ]
    },
    {
      "cell_type": "markdown",
      "source": [
        "Declarative"
      ],
      "metadata": {
        "id": "L6NyXFCyozCe"
      }
    },
    {
      "cell_type": "code",
      "source": [
        "numbers = [1, 2, 3, 4, 5, 6]\n",
        "even_numbers = list(filter(lambda x: x % 2 == 0, numbers))\n",
        "print(even_numbers)\n"
      ],
      "metadata": {
        "colab": {
          "base_uri": "https://localhost:8080/"
        },
        "id": "wPAIja56o0_v",
        "outputId": "dc48c512-d2a7-47dc-f491-d97f23bd025d"
      },
      "execution_count": 4,
      "outputs": [
        {
          "output_type": "stream",
          "name": "stdout",
          "text": [
            "[2, 4, 6]\n"
          ]
        }
      ]
    },
    {
      "cell_type": "markdown",
      "source": [
        "## Square of List\n",
        "\n",
        "Imperative style"
      ],
      "metadata": {
        "id": "9my1sa9Do3JV"
      }
    },
    {
      "cell_type": "code",
      "source": [
        "numbers = [1, 2, 3, 4, 5]\n",
        "squared_numbers = []\n",
        "for number in numbers:\n",
        "    squared_numbers.append(number ** 2)\n",
        "print(squared_numbers)\n"
      ],
      "metadata": {
        "colab": {
          "base_uri": "https://localhost:8080/"
        },
        "id": "QyNAj8Jjo-bZ",
        "outputId": "e097bf31-7f62-4116-efec-c6df3d4c642f"
      },
      "execution_count": 5,
      "outputs": [
        {
          "output_type": "stream",
          "name": "stdout",
          "text": [
            "[1, 4, 9, 16, 25]\n"
          ]
        }
      ]
    },
    {
      "cell_type": "markdown",
      "source": [
        "Declarative Style"
      ],
      "metadata": {
        "id": "SnWdaxfWo_gZ"
      }
    },
    {
      "cell_type": "code",
      "source": [
        "numbers = [1, 2, 3, 4, 5]\n",
        "squared_numbers = [x ** 2 for x in numbers]\n",
        "print(squared_numbers)\n"
      ],
      "metadata": {
        "colab": {
          "base_uri": "https://localhost:8080/"
        },
        "id": "yJScUfE6pA_Q",
        "outputId": "ea0ce7a6-b190-47fa-cb84-b57c90da55ee"
      },
      "execution_count": 6,
      "outputs": [
        {
          "output_type": "stream",
          "name": "stdout",
          "text": [
            "[1, 4, 9, 16, 25]\n"
          ]
        }
      ]
    },
    {
      "cell_type": "markdown",
      "source": [
        "## Find Element (on Value)\n",
        "\n",
        "Imperative Style"
      ],
      "metadata": {
        "id": "vrDRYuSHpMrJ"
      }
    },
    {
      "cell_type": "code",
      "source": [
        "numbers = [1, 2, 3, 4, 5]\n",
        "result = None\n",
        "for number in numbers:\n",
        "    if number > 3:\n",
        "        result = number\n",
        "        break\n",
        "print(result)\n"
      ],
      "metadata": {
        "colab": {
          "base_uri": "https://localhost:8080/"
        },
        "id": "IvsOXk9jpRS4",
        "outputId": "697ae1b4-d075-4c3a-b9cf-1a85aed3cb87"
      },
      "execution_count": 7,
      "outputs": [
        {
          "output_type": "stream",
          "name": "stdout",
          "text": [
            "4\n"
          ]
        }
      ]
    },
    {
      "cell_type": "markdown",
      "source": [
        "Declarative Style"
      ],
      "metadata": {
        "id": "BFEoJkdJpS_C"
      }
    },
    {
      "cell_type": "code",
      "source": [
        "numbers = [1, 2, 3, 4, 5]\n",
        "result = next(x for x in numbers if x > 3)\n",
        "print(result)\n"
      ],
      "metadata": {
        "id": "9z_yCQ5qpVPV"
      },
      "execution_count": null,
      "outputs": []
    },
    {
      "cell_type": "markdown",
      "source": [
        "## Concatenate Strings\n",
        "\n",
        "Imperative Style"
      ],
      "metadata": {
        "id": "ZhTaCIbzpYZJ"
      }
    },
    {
      "cell_type": "code",
      "source": [
        "strings = [\"hello\", \"world\"]\n",
        "result = \"\"\n",
        "for string in strings:\n",
        "    result += string + \" \"\n",
        "result = result.strip()\n",
        "print(result)\n"
      ],
      "metadata": {
        "id": "AFP2UBLdpd-G"
      },
      "execution_count": null,
      "outputs": []
    },
    {
      "cell_type": "markdown",
      "source": [
        "Declarative Style"
      ],
      "metadata": {
        "id": "oPve2-tIpgSp"
      }
    },
    {
      "cell_type": "code",
      "source": [
        "strings = [\"hello\", \"world\"]\n",
        "result = \" \".join(strings)\n",
        "print(result)\n"
      ],
      "metadata": {
        "id": "7yZOkkmwpjhi"
      },
      "execution_count": null,
      "outputs": []
    }
  ]
}